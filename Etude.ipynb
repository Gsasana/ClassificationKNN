{
 "cells": [
  {
   "cell_type": "markdown",
   "metadata": {},
   "source": [
    "#Préparation et modélisation des données"
   ]
  },
  {
   "cell_type": "code",
   "execution_count": 2,
   "metadata": {},
   "outputs": [],
   "source": [
    "# Import des bibliothèques \n",
    "from sklearn import neighbors\n",
    "from sklearn import datasets\n",
    "from sklearn.model_selection import train_test_split\n",
    "import pandas as pd\n",
    "import numpy as np\n",
    "\n",
    "# Import dictionnaire des données\n",
    "digits = datasets.load_digits()\n",
    "\n",
    "# Sauvegarde DataFrame des données dans l'attribut data de digits\n",
    "X_digits = pd.DataFrame(digits.data)\n",
    "# Sauvegarde Dataframe les labels dans l'attribut target\n",
    "y_digits = digits.target"
   ]
  },
  {
   "cell_type": "code",
   "execution_count": 3,
   "metadata": {},
   "outputs": [
    {
     "data": {
      "image/png": "[encoded data removed]",
      "text/plain": [
       "<Figure size 640x480 with 6 Axes>"
      ]
     },
     "metadata": {},
     "output_type": "display_data"
    }
   ],
   "source": [
    "%matplotlib inline\n",
    "import matplotlib.pyplot as plt\n",
    "from matplotlib import cm # pour importer de nouvelles cartes de couleur\n",
    "\n",
    "j=0\n",
    "\n",
    "for i in np.random.choice(np.arange(0, len(y_digits)), size=6):\n",
    "    j=j+1\n",
    "#On stocke l'indice dans la liste i pour pouvoir afficher le label correspondant plus tard.\n",
    "    \n",
    "    plt.subplot(2,3,j)\n",
    "# Rajouter *plt.subplot(2,3,j)* à chaque itération permet d'afficher toutes les images\n",
    "# ensembles sur la même figure.\n",
    "\n",
    "    plt.axis('off')\n",
    "# Permet de supprimer les axes (ici sert à mieux voir les titres)\n",
    "    \n",
    "    plt.imshow(digits.images[i],cmap = cm.binary, interpolation='None')\n",
    "# Affiche l'image n°i\n",
    "# L'utilisation de cm.binary permet de voir les chiffres en gris sur fond blanc.\n",
    "\n",
    "    plt.title('Label: %i' %y_digits[i])\n",
    "# Pour chaque image on écrit en titre le label qui lui correspond. \n"
   ]
  },
  {
   "cell_type": "code",
   "execution_count": 4,
   "metadata": {},
   "outputs": [],
   "source": [
    "# Division des matrices\n",
    "X_train, X_test, y_train, y_test = train_test_split(X_digits, y_digits, test_size=0.2, random_state=126)\n"
   ]
  }
 ],
 "metadata": {
  "kernelspec": {
   "display_name": "projetct",
   "language": "python",
   "name": "python3"
  },
  "language_info": {
   "codemirror_mode": {
    "name": "ipython",
    "version": 3
   },
   "file_extension": ".py",
   "mimetype": "text/x-python",
   "name": "python",
   "nbconvert_exporter": "python",
   "pygments_lexer": "ipython3",
   "version": "3.11.8"
  }
 },
 "nbformat": 4,
 "nbformat_minor": 2
}
